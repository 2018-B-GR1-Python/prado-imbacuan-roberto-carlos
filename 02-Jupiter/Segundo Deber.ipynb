{
 "cells": [
  {
   "cell_type": "code",
   "execution_count": 2,
   "metadata": {},
   "outputs": [],
   "source": [
    "import numpy as np"
   ]
  },
  {
   "cell_type": "markdown",
   "metadata": {},
   "source": [
    "# Compañia de muebles\n",
    "Una compañia de muebles fabrica sillas mesas y camas, cada una tiene tres modelos: Economico(E), Medio(M) y de Lujo(L). Cada mes produce 20 modelos de E, 15 de M y de 10 de L de sillas, 12 modelos de E, 8 modelos de de M y 5 de L de mesas y 18 modelos de E, 20 de M y 12 de L de camas. \n",
    "## Representación del problema\n",
    "Eje i = muebles, Eje j = tipos"
   ]
  },
  {
   "cell_type": "code",
   "execution_count": 57,
   "metadata": {},
   "outputs": [
    {
     "name": "stdout",
     "output_type": "stream",
     "text": [
      "[[20 15 10]\n",
      " [12  8  5]\n",
      " [18 20 12]]\n"
     ]
    }
   ],
   "source": [
    "produccion_mensual = np.array([20,15,10,12,8,5,18,20,12]).reshape(3,3)\n",
    "print(produccion_mensual)"
   ]
  },
  {
   "cell_type": "markdown",
   "metadata": {},
   "source": [
    "## Calcular la producción semestral y anual para cada tipo de mueble"
   ]
  },
  {
   "cell_type": "code",
   "execution_count": 59,
   "metadata": {},
   "outputs": [
    {
     "name": "stdout",
     "output_type": "stream",
     "text": [
      "[[120  90  60]\n",
      " [ 72  48  30]\n",
      " [108 120  72]]\n",
      "\n",
      "\n",
      "[[240 180 120]\n",
      " [144  96  60]\n",
      " [216 240 144]]\n"
     ]
    }
   ],
   "source": [
    "produccion_semestral = produccion_mensual * 6\n",
    "print(produccion_semestral)\n",
    "print(\"\\n\")\n",
    "produccion_anual = produccion_mensual * 12\n",
    "print(produccion_anual)"
   ]
  },
  {
   "cell_type": "markdown",
   "metadata": {},
   "source": [
    "## Crear tabla de precios\n",
    "Los precios para sillas, mesas y camas son de 5, 20, 45 dólares respectivamente en el modelo economico , y aumenta en 15 y 30 y 45 dólares para cada modelo en cada tipo de mueble."
   ]
  },
  {
   "cell_type": "code",
   "execution_count": 100,
   "metadata": {},
   "outputs": [
    {
     "name": "stdout",
     "output_type": "stream",
     "text": [
      "[[  5  20  35]\n",
      " [ 20  50  80]\n",
      " [ 45  90 135]]\n"
     ]
    }
   ],
   "source": [
    "precios = np.arange(9)\n",
    "for i in np.nditer(precios, order=\"F\", op_flags=[\"readwrite\"]):\n",
    "    i[...] = ((i%3 + 1) * 5) * (i + 1)\n",
    "precios = precios.reshape((3,3)).T\n",
    "print(precios)"
   ]
  },
  {
   "cell_type": "markdown",
   "metadata": {},
   "source": [
    "## Calcular la venta anual de acuerdo a la producción anual"
   ]
  },
  {
   "cell_type": "code",
   "execution_count": 101,
   "metadata": {},
   "outputs": [
    {
     "name": "stdout",
     "output_type": "stream",
     "text": [
      "[[ 1200  3600  4200]\n",
      " [ 2880  4800  4800]\n",
      " [ 9720 21600 19440]]\n"
     ]
    }
   ],
   "source": [
    "ventas_anual = produccion_anual * precios\n",
    "print(ventas_anual)"
   ]
  },
  {
   "cell_type": "markdown",
   "metadata": {},
   "source": [
    "## Calcular la venta total anual"
   ]
  },
  {
   "cell_type": "code",
   "execution_count": 102,
   "metadata": {},
   "outputs": [
    {
     "name": "stdout",
     "output_type": "stream",
     "text": [
      "72240\n"
     ]
    }
   ],
   "source": [
    "print(ventas_anual.sum())"
   ]
  },
  {
   "cell_type": "markdown",
   "metadata": {},
   "source": [
    "## Ver la venta anual con un 12% mas de ingresos en cada valor"
   ]
  },
  {
   "cell_type": "code",
   "execution_count": 106,
   "metadata": {},
   "outputs": [
    {
     "name": "stdout",
     "output_type": "stream",
     "text": [
      "[[1.12 1.12 1.12]\n",
      " [1.12 1.12 1.12]\n",
      " [1.12 1.12 1.12]]\n",
      "[[ 1344.   4032.   4704. ]\n",
      " [ 3225.6  5376.   5376. ]\n",
      " [10886.4 24192.  21772.8]]\n"
     ]
    }
   ],
   "source": [
    "aumento = np.ones((3,3))*.12 + np.ones((3,3))\n",
    "print(aumento)\n",
    "print(ventas_anual * aumento)"
   ]
  },
  {
   "cell_type": "markdown",
   "metadata": {},
   "source": [
    "## Ahora suponga una reduccion de $1000 en las sillas economicas, mesas medium y camas de lujo en las venta semestral"
   ]
  },
  {
   "cell_type": "code",
   "execution_count": 115,
   "metadata": {},
   "outputs": [
    {
     "name": "stdout",
     "output_type": "stream",
     "text": [
      "Perdidas:\n",
      "[[1000.    0.    0.]\n",
      " [   0. 1000.    0.]\n",
      " [   0.    0. 1000.]]\n",
      "\n",
      "Ventas semestrales:\n",
      "[[  600  1800  2100]\n",
      " [ 1440  2400  2400]\n",
      " [ 4860 10800  9720]]\n",
      "\n",
      "Total:\n",
      "[[ -400.  1800.  2100.]\n",
      " [ 1440.  1400.  2400.]\n",
      " [ 4860. 10800.  8720.]]\n"
     ]
    }
   ],
   "source": [
    "perdidas = np.eye(3) * 1000\n",
    "print(\"Perdidas:\")\n",
    "print(perdidas)\n",
    "print(\"\\nVentas semestrales:\")\n",
    "print(produccion_semestral * precios)\n",
    "print(\"\\nTotal:\")\n",
    "print(produccion_semestral * precios - perdidas)"
   ]
  },
  {
   "cell_type": "markdown",
   "metadata": {},
   "source": [
    "## Calcular la producción mensual para cada tipo de mueble y para cada  modelo suponiendo un aumento de 5% en cada mes en la producción mensual"
   ]
  },
  {
   "cell_type": "code",
   "execution_count": 175,
   "metadata": {},
   "outputs": [
    {
     "name": "stdout",
     "output_type": "stream",
     "text": [
      "[[[1.   1.   1.  ]\n",
      "  [1.   1.   1.  ]\n",
      "  [1.   1.   1.  ]]\n",
      "\n",
      " [[1.05 1.05 1.05]\n",
      "  [1.05 1.05 1.05]\n",
      "  [1.05 1.05 1.05]]\n",
      "\n",
      " [[1.1  1.1  1.1 ]\n",
      "  [1.1  1.1  1.1 ]\n",
      "  [1.1  1.1  1.1 ]]\n",
      "\n",
      " [[1.15 1.15 1.15]\n",
      "  [1.15 1.15 1.15]\n",
      "  [1.15 1.15 1.15]]\n",
      "\n",
      " [[1.2  1.2  1.2 ]\n",
      "  [1.2  1.2  1.2 ]\n",
      "  [1.2  1.2  1.2 ]]\n",
      "\n",
      " [[1.25 1.25 1.25]\n",
      "  [1.25 1.25 1.25]\n",
      "  [1.25 1.25 1.25]]\n",
      "\n",
      " [[1.3  1.3  1.3 ]\n",
      "  [1.3  1.3  1.3 ]\n",
      "  [1.3  1.3  1.3 ]]\n",
      "\n",
      " [[1.35 1.35 1.35]\n",
      "  [1.35 1.35 1.35]\n",
      "  [1.35 1.35 1.35]]\n",
      "\n",
      " [[1.4  1.4  1.4 ]\n",
      "  [1.4  1.4  1.4 ]\n",
      "  [1.4  1.4  1.4 ]]\n",
      "\n",
      " [[1.45 1.45 1.45]\n",
      "  [1.45 1.45 1.45]\n",
      "  [1.45 1.45 1.45]]\n",
      "\n",
      " [[1.5  1.5  1.5 ]\n",
      "  [1.5  1.5  1.5 ]\n",
      "  [1.5  1.5  1.5 ]]\n",
      "\n",
      " [[1.55 1.55 1.55]\n",
      "  [1.55 1.55 1.55]\n",
      "  [1.55 1.55 1.55]]]\n"
     ]
    }
   ],
   "source": [
    "aumento_mensual = np.arange(108).reshape(12,3,3) / 9\n",
    "aumento_mensual = aumento_mensual.astype(int) + 1\n",
    "aumento_mensual = aumento_mensual * .05\n",
    "aumento_mensual = aumento_mensual + 0.95\n",
    "print(aumento_mensual)"
   ]
  },
  {
   "cell_type": "code",
   "execution_count": 188,
   "metadata": {},
   "outputs": [
    {
     "name": "stdout",
     "output_type": "stream",
     "text": [
      "[[[20 15 10]\n",
      "  [12  8  5]\n",
      "  [18 20 12]]\n",
      "\n",
      " [[21 15 10]\n",
      "  [12  8  5]\n",
      "  [18 21 12]]\n",
      "\n",
      " [[22 16 11]\n",
      "  [13  8  5]\n",
      "  [19 22 13]]\n",
      "\n",
      " [[23 17 11]\n",
      "  [13  9  5]\n",
      "  [20 23 13]]\n",
      "\n",
      " [[24 18 12]\n",
      "  [14  9  6]\n",
      "  [21 24 14]]\n",
      "\n",
      " [[25 18 12]\n",
      "  [15 10  6]\n",
      "  [22 25 15]]\n",
      "\n",
      " [[26 19 13]\n",
      "  [15 10  6]\n",
      "  [23 26 15]]\n",
      "\n",
      " [[27 20 13]\n",
      "  [16 10  6]\n",
      "  [24 27 16]]\n",
      "\n",
      " [[28 21 14]\n",
      "  [16 11  7]\n",
      "  [25 28 16]]\n",
      "\n",
      " [[29 21 14]\n",
      "  [17 11  7]\n",
      "  [26 29 17]]\n",
      "\n",
      " [[30 22 15]\n",
      "  [18 12  7]\n",
      "  [27 30 18]]\n",
      "\n",
      " [[31 23 15]\n",
      "  [18 12  7]\n",
      "  [27 31 18]]]\n"
     ]
    }
   ],
   "source": [
    "produccion_cada_mes = aumento_mensual * produccion_mensual\n",
    "produccion_cada_mes = produccion_cada_mes.astype(int)\n",
    "print(produccion_cada_mes)"
   ]
  },
  {
   "cell_type": "markdown",
   "metadata": {},
   "source": [
    "## Determinar la produccion mensual por el tipo de mueble en cada mes\n",
    "[sillas, mesas, camas]"
   ]
  },
  {
   "cell_type": "code",
   "execution_count": 196,
   "metadata": {},
   "outputs": [
    {
     "name": "stdout",
     "output_type": "stream",
     "text": [
      "[[45 25 50]\n",
      " [46 25 51]\n",
      " [49 26 54]\n",
      " [51 27 56]\n",
      " [54 29 59]\n",
      " [55 31 62]\n",
      " [58 31 64]\n",
      " [60 32 67]\n",
      " [63 34 69]\n",
      " [64 35 72]\n",
      " [67 37 75]\n",
      " [69 37 76]]\n"
     ]
    }
   ],
   "source": [
    "produccion_mensual_por_tipo = produccion_cada_mes.sum(axis=2)\n",
    "print(produccion_mensual_por_tipo)"
   ]
  },
  {
   "cell_type": "markdown",
   "metadata": {},
   "source": [
    "## Determinar la produccion mensual por el modelo de mueble\n",
    "[Economico, Medio, Lujo]"
   ]
  },
  {
   "cell_type": "code",
   "execution_count": 199,
   "metadata": {
    "scrolled": true
   },
   "outputs": [
    {
     "name": "stdout",
     "output_type": "stream",
     "text": [
      "[[50 43 27]\n",
      " [51 44 27]\n",
      " [54 46 29]\n",
      " [56 49 29]\n",
      " [59 51 32]\n",
      " [62 53 33]\n",
      " [64 55 34]\n",
      " [67 57 35]\n",
      " [69 60 37]\n",
      " [72 61 38]\n",
      " [75 64 40]\n",
      " [76 66 40]]\n"
     ]
    }
   ],
   "source": [
    "produccion_mensual_por_modelo = produccion_cada_mes.sum(axis=1)\n",
    "print(produccion_mensual_por_modelo)"
   ]
  },
  {
   "cell_type": "markdown",
   "metadata": {},
   "source": [
    "## Determinar el promedio en la producción mensual"
   ]
  },
  {
   "cell_type": "code",
   "execution_count": 205,
   "metadata": {},
   "outputs": [
    {
     "name": "stdout",
     "output_type": "stream",
     "text": [
      "[120 122 129 134 142 148 153 159 166 171 179 182]\n",
      "Promedio:\n",
      "150.41666666666666\n"
     ]
    }
   ],
   "source": [
    "suma_mensual_por_tipo = produccion_mensual_por_tipo.sum(axis=1)\n",
    "print(suma_mensual_por_tipo)\n",
    "print(\"Promedio:\")\n",
    "print(np.mean(suma_mensual_por_tipo))"
   ]
  },
  {
   "cell_type": "markdown",
   "metadata": {},
   "source": [
    "### Por modelo"
   ]
  },
  {
   "cell_type": "code",
   "execution_count": 206,
   "metadata": {},
   "outputs": [
    {
     "name": "stdout",
     "output_type": "stream",
     "text": [
      "[120 122 129 134 142 148 153 159 166 171 179 182]\n",
      "Promedio:\n",
      "150.41666666666666\n"
     ]
    }
   ],
   "source": [
    "suma_mensual_por_modelo = produccion_mensual_por_modelo.sum(axis=1)\n",
    "print(suma_mensual_por_modelo)\n",
    "print(\"Promedio:\")\n",
    "print(np.mean(suma_mensual_por_modelo))"
   ]
  },
  {
   "attachments": {
    "image.png": {
     "image/png": "[encoded data removed]"
    }
   },
   "cell_type": "markdown",
   "metadata": {},
   "source": [
    "## Representación matricial de transformaciones lineales\n",
    "Si piensa de un punto en un plano como una 1 matriz x 2, se puede transformar dicho punto multiplicándolo por una matriz de 2 x 2. La ilustración siguiente muestra varias transformaciones aplicadas en el punto (2, 1).\n",
    "https://docs.microsoft.com/es-es/dotnet/framework/winforms/advanced/matrix-representation-of-transformations\n",
    "![image.png](attachment:image.png)"
   ]
  },
  {
   "cell_type": "code",
   "execution_count": 6,
   "metadata": {},
   "outputs": [
    {
     "name": "stdout",
     "output_type": "stream",
     "text": [
      "[2 1]\n"
     ]
    }
   ],
   "source": [
    "punto_tipo_matriz = np.array([2,1])\n",
    "print(punto_tipo_matriz)"
   ]
  },
  {
   "cell_type": "code",
   "execution_count": 7,
   "metadata": {},
   "outputs": [
    {
     "name": "stdout",
     "output_type": "stream",
     "text": [
      "[6 1]\n"
     ]
    }
   ],
   "source": [
    "# Escala\n",
    "matriz_escala = np.array([[3,0],[0,1]]);\n",
    "print(punto_tipo_matriz.dot(matriz_escala))"
   ]
  },
  {
   "cell_type": "code",
   "execution_count": 9,
   "metadata": {},
   "outputs": [
    {
     "name": "stdout",
     "output_type": "stream",
     "text": [
      "[-1  2]\n"
     ]
    }
   ],
   "source": [
    "# Giro de 90°\n",
    "matris_giro_noventa = np.array([[0,1],[-1,0]])\n",
    "print(punto_tipo_matriz.dot(matris_giro_noventa))"
   ]
  },
  {
   "cell_type": "code",
   "execution_count": 13,
   "metadata": {},
   "outputs": [
    {
     "name": "stdout",
     "output_type": "stream",
     "text": [
      "[ 2 -1]\n"
     ]
    }
   ],
   "source": [
    "# Reflección respecto al eje X\n",
    "matriz_reflexion_x = np.array([[1,0],[0,-1]])\n",
    "print(punto_tipo_matriz.dot(matriz_reflexion_x))"
   ]
  },
  {
   "attachments": {
    "image.png": {
     "image/png": "[encoded data removed]"
    }
   },
   "cell_type": "markdown",
   "metadata": {},
   "source": [
    "## Problemas de trigonomtría\n",
    "\n",
    "https://www.matesfacil.com/ESO/geometria_plana/trigonometria/problemas-resueltos-trigonometria-secundaria-seno-coseno-triangulo-angulo.html\n",
    "\n",
    "Se desea sujetar un poste de 20 metros de altura con un cable que parte de la parte superior del mismo hasta el suelo de modo que forme un ángulo de 15°, 30°, 45°, y 60°.\n",
    "\n",
    "![image.png](attachment:image.png)\n",
    "\n",
    "Calcular el precio del cable para cada caso si cada metro cuesta 12$."
   ]
  },
  {
   "cell_type": "code",
   "execution_count": 24,
   "metadata": {},
   "outputs": [
    {
     "name": "stdout",
     "output_type": "stream",
     "text": [
      "[15 30 45 60]\n",
      "[0.26179939 0.52359878 0.78539816 1.04719755]\n"
     ]
    }
   ],
   "source": [
    "altura = 20\n",
    "angulos = np.arange(15,61,15)\n",
    "print(angulos)\n",
    "angulos_radianes = angulos * np.pi/180\n",
    "print(angulos_radianes)"
   ]
  },
  {
   "attachments": {
    "image.png": {
     "image/png": "[encoded data removed]"
    }
   },
   "cell_type": "markdown",
   "metadata": {},
   "source": [
    "Como conocemos el lado opuesto, \n",
    "a\n",
    "=\n",
    "20\n",
    "m\n",
    ", utilizamos el seno para calcular la hipotenusa del triángulo:\n",
    "![image.png](attachment:image.png)"
   ]
  },
  {
   "cell_type": "code",
   "execution_count": 26,
   "metadata": {},
   "outputs": [
    {
     "name": "stdout",
     "output_type": "stream",
     "text": [
      "[15 30 45 60]\n",
      "[77.2740661  40.         28.28427125 23.09401077]\n"
     ]
    }
   ],
   "source": [
    "h = altura / np.sin(angulos_radianes)\n",
    "print(angulos)\n",
    "print(h)"
   ]
  },
  {
   "cell_type": "code",
   "execution_count": 28,
   "metadata": {},
   "outputs": [
    {
     "name": "stdout",
     "output_type": "stream",
     "text": [
      "[927.28879324 480.         339.41125497 277.12812921]\n"
     ]
    }
   ],
   "source": [
    "precios = h * 12\n",
    "print(precios)"
   ]
  },
  {
   "attachments": {
    "image.png": {
     "image/png": "[encoded data removed]"
    }
   },
   "cell_type": "markdown",
   "metadata": {},
   "source": [
    "Calcular la altura de tres torres de refrigeración de una central nuclear si se sabe que su sombra mide 271 metros cuando los rayos solares forman un ángulo de 30°,45°,50° respectivamente.\n",
    "![image.png](attachment:image.png)"
   ]
  },
  {
   "cell_type": "code",
   "execution_count": 6,
   "metadata": {},
   "outputs": [
    {
     "name": "stdout",
     "output_type": "stream",
     "text": [
      "[0.52359878 0.78539816 0.87266463]\n"
     ]
    }
   ],
   "source": [
    "angulos_sombras = np.array([30,45,50])\n",
    "angulos_sombras_radianes = angulos_sombras * np.pi/180\n",
    "print(angulos_sombras_radianes)"
   ]
  },
  {
   "attachments": {
    "image.png": {
     "image/png": "[encoded data removed]"
    }
   },
   "cell_type": "markdown",
   "metadata": {},
   "source": [
    "Despejamos la altura:\n",
    "![image.png](attachment:image.png)"
   ]
  },
  {
   "attachments": {
    "image.png": {
     "image/png": "[encoded data removed]"
    }
   },
   "cell_type": "markdown",
   "metadata": {},
   "source": [
    "Despejamos la hipotenusa:\n",
    "![image.png](attachment:image.png)"
   ]
  },
  {
   "cell_type": "code",
   "execution_count": 7,
   "metadata": {},
   "outputs": [
    {
     "name": "stdout",
     "output_type": "stream",
     "text": [
      "[156.46192295 271.         322.96522359]\n"
     ]
    }
   ],
   "source": [
    "alturas = (271 / np.cos(angulos_sombras_radianes)) * np.sin(angulos_sombras_radianes)\n",
    "print(alturas)"
   ]
  },
  {
   "cell_type": "code",
   "execution_count": 8,
   "metadata": {},
   "outputs": [
    {
     "name": "stdout",
     "output_type": "stream",
     "text": [
      "[156.46192295 271.         322.96522359]\n"
     ]
    }
   ],
   "source": [
    "print(271 * np.tan(angulos_sombras_radianes))"
   ]
  },
  {
   "attachments": {
    "image.png": {
     "image/png": "[encoded data removed]"
    }
   },
   "cell_type": "markdown",
   "metadata": {},
   "source": [
    "## CADENAS DE MARKOV\n",
    "http://investigaciondeoperaciones2markov.blogspot.com/p/teoria-y-ejemplos.html\n",
    "\n",
    "Existen 3 operadores principales de telefonía móvil como lo son tigo, Comcel y movistar (estados).\n",
    "Los porcentajes actuales que tiene cada operador en el mercado actual son para tigo 0.4 para Comcel 0.25 y para movistar 0.35. (estado inicial)\n",
    "Se tiene la siguiente información un usuario actualmente de tigo tiene una probabilidad de permanecer en tigo de 0.60, de pasar a Comcel 0.2 y de pasarse a movistar de 0.2; si en la actualidad el usuario es cliente de Comcel tiene una probabilidad de mantenerse en Comcel del 0.5 de que esta persona se cambie a tigo  0.3 y que se pase a movistar de 0.2; si el usuario es cliente en la actualidad de movistar la probabilidad que permanezca en movistar es de 0.4 de que se cambie a tigo de 0.3 y a Comcel de 0.3. \n",
    "Partiendo de esta información podemos elaborar la matriz de transición.\n",
    "![image.png](attachment:image.png)"
   ]
  },
  {
   "cell_type": "code",
   "execution_count": 10,
   "metadata": {},
   "outputs": [
    {
     "name": "stdout",
     "output_type": "stream",
     "text": [
      "[[0.6 0.2 0.2]\n",
      " [0.3 0.5 0.2]\n",
      " [0.3 0.3 0.4]]\n"
     ]
    }
   ],
   "source": [
    "estados = np.array([[.6,.2,.2],[.3,.5,.2],[.3,.3,.4]])\n",
    "print(estados)"
   ]
  },
  {
   "cell_type": "code",
   "execution_count": 97,
   "metadata": {},
   "outputs": [
    {
     "name": "stdout",
     "output_type": "stream",
     "text": [
      "[0.4  0.25 0.35]\n"
     ]
    }
   ],
   "source": [
    "estado_incial = np.array([.4,.25,.35])\n",
    "print(estado_incial)"
   ]
  },
  {
   "cell_type": "code",
   "execution_count": 137,
   "metadata": {
    "scrolled": true
   },
   "outputs": [
    {
     "name": "stdout",
     "output_type": "stream",
     "text": [
      "\n",
      "Resultados:\n",
      "[[0.4        0.25       0.35      ]\n",
      " [0.42       0.31       0.27      ]\n",
      " [0.426      0.32       0.254     ]\n",
      " [0.42834    0.3215     0.25016   ]\n",
      " [0.42856955 0.32143019 0.25000026]\n",
      " [0.42857143 0.32142857 0.25      ]\n",
      " [0.42857143 0.32142857 0.25      ]\n",
      " [0.42857143 0.32142857 0.25      ]\n",
      " [0.42857143 0.32142857 0.25      ]\n",
      " [0.42857143 0.32142857 0.25      ]\n",
      " [0.42857143 0.32142857 0.25      ]\n",
      " [0.42857143 0.32142857 0.25      ]\n",
      " [0.42857143 0.32142857 0.25      ]\n",
      " [0.42857143 0.32142857 0.25      ]\n",
      " [0.42857143 0.32142857 0.25      ]\n",
      " [0.42857143 0.32142857 0.25      ]\n",
      " [0.42857143 0.32142857 0.25      ]\n",
      " [0.42857143 0.32142857 0.25      ]\n",
      " [0.42857143 0.32142857 0.25      ]\n",
      " [0.42857143 0.32142857 0.25      ]\n",
      " [0.42857143 0.32142857 0.25      ]\n",
      " [0.42857143 0.32142857 0.25      ]\n",
      " [0.42857143 0.32142857 0.25      ]\n",
      " [0.42857143 0.32142857 0.25      ]\n",
      " [0.42857143 0.32142857 0.25      ]\n",
      " [0.42857143 0.32142857 0.25      ]\n",
      " [0.42857143 0.32142857 0.25      ]\n",
      " [0.42857143 0.32142857 0.25      ]\n",
      " [0.42857143 0.32142857 0.25      ]\n",
      " [0.42857143 0.32142857 0.25      ]\n",
      " [0.42857143 0.32142857 0.25      ]\n",
      " [0.42857143 0.32142857 0.25      ]\n",
      " [0.42857144 0.32142858 0.25000001]\n",
      " [0.42857145 0.32142859 0.25000001]\n",
      " [0.42857146 0.3214286  0.25000002]\n",
      " [0.4285715  0.32142863 0.25000004]\n",
      " [0.42857157 0.32142868 0.25000008]\n",
      " [0.42857172 0.32142879 0.25000017]\n",
      " [0.42857201 0.32142901 0.25000034]\n",
      " [0.42857259 0.32142944 0.25000068]\n",
      " [0.42857375 0.32143031 0.25000136]\n",
      " [0.42857608 0.32143206 0.25000271]\n",
      " [0.42858073 0.32143555 0.25000542]\n",
      " [0.42859003 0.32144252 0.25001085]\n",
      " [0.42860862 0.32145647 0.2500217 ]\n",
      " [0.42864582 0.32148437 0.2500434 ]\n",
      " [0.42872023 0.32154017 0.2500868 ]\n",
      " [0.42886908 0.32165181 0.25017363]\n",
      " [0.42916693 0.3218752  0.25034738]\n",
      " [0.42976327 0.32232245 0.25069524]]\n"
     ]
    }
   ],
   "source": [
    "Po = estados\n",
    "resultados = estado_incial\n",
    "for i in range(1,50):\n",
    "    if(i != 1):\n",
    "        Po =  Po.dot(Po)\n",
    "    Pi = estado_incial.dot(Po)\n",
    "    resultados = np.append(resultados, Pi)\n",
    "    \n",
    "cadenas_markov = resultados.reshape(-1,3)\n",
    "print(\"\\nResultados:\")\n",
    "print(cadenas_markov)"
   ]
  },
  {
   "cell_type": "markdown",
   "metadata": {},
   "source": [
    "### Promedios"
   ]
  },
  {
   "cell_type": "code",
   "execution_count": 138,
   "metadata": {},
   "outputs": [
    {
     "name": "stdout",
     "output_type": "stream",
     "text": [
      "[0.42782013 0.31978006 0.252511  ]\n"
     ]
    }
   ],
   "source": [
    "print(np.mean(cadenas_markov, axis=0))"
   ]
  },
  {
   "cell_type": "markdown",
   "metadata": {},
   "source": [
    "### Mediana"
   ]
  },
  {
   "cell_type": "code",
   "execution_count": 139,
   "metadata": {},
   "outputs": [
    {
     "name": "stdout",
     "output_type": "stream",
     "text": [
      "[0.42857143 0.32142857 0.25      ]\n"
     ]
    }
   ],
   "source": [
    "print(np.median(cadenas_markov, axis=0))"
   ]
  },
  {
   "cell_type": "markdown",
   "metadata": {},
   "source": [
    "### Desviacion estándar"
   ]
  },
  {
   "cell_type": "code",
   "execution_count": 140,
   "metadata": {},
   "outputs": [
    {
     "name": "stdout",
     "output_type": "stream",
     "text": [
      "[0.00417165 0.01009939 0.01421366]\n"
     ]
    }
   ],
   "source": [
    "print(np.std(cadenas_markov, axis=0))"
   ]
  },
  {
   "cell_type": "markdown",
   "metadata": {},
   "source": [
    "### Varianza"
   ]
  },
  {
   "cell_type": "code",
   "execution_count": 141,
   "metadata": {},
   "outputs": [
    {
     "name": "stdout",
     "output_type": "stream",
     "text": [
      "[1.74026469e-05 1.01997678e-04 2.02028266e-04]\n"
     ]
    }
   ],
   "source": [
    "print(np.var(cadenas_markov, axis=0))"
   ]
  },
  {
   "cell_type": "markdown",
   "metadata": {},
   "source": [
    "# Analisis de audio"
   ]
  },
  {
   "cell_type": "markdown",
   "metadata": {},
   "source": [
    "Obtenemos la lista de frecuencias generadas en 10 segundos:"
   ]
  },
  {
   "cell_type": "code",
   "execution_count": 151,
   "metadata": {},
   "outputs": [
    {
     "name": "stdout",
     "output_type": "stream",
     "text": [
      "[0.00000e+00 1.00000e-01 2.00000e-01 ... 2.20498e+04 2.20499e+04\n",
      " 2.20500e+04]\n"
     ]
    }
   ],
   "source": [
    "frecuencias = np.genfromtxt('datos/freqData.txt', delimiter=',')\n",
    "print(frecuencias)"
   ]
  },
  {
   "cell_type": "code",
   "execution_count": 152,
   "metadata": {},
   "outputs": [
    {
     "name": "stdout",
     "output_type": "stream",
     "text": [
      "[6.13125717e-09 4.72346175e-09 7.01120185e-10 ... 1.20625421e-15\n",
      " 2.72958821e-16 1.02529126e-15]\n"
     ]
    }
   ],
   "source": [
    "fft = np.genfromtxt('datos/fftData.txt', delimiter=',')\n",
    "print(fft)"
   ]
  },
  {
   "cell_type": "markdown",
   "metadata": {},
   "source": [
    "Obtenemos sus dimensiones:"
   ]
  },
  {
   "cell_type": "code",
   "execution_count": 154,
   "metadata": {},
   "outputs": [
    {
     "name": "stdout",
     "output_type": "stream",
     "text": [
      "Frecuencias en un 10 segundos:\n",
      "(220161,)\n",
      "Señales de frecuencias leidas:\n",
      "(220161,)\n"
     ]
    }
   ],
   "source": [
    "print(\"Frecuencias en un 10 segundos:\")\n",
    "print(frecuencias.shape)\n",
    "print(\"Señales de frecuencias leidas:\")\n",
    "print(fft.shape)"
   ]
  },
  {
   "cell_type": "markdown",
   "metadata": {},
   "source": [
    "Como tienen las mismas dimensiones en el mismo periodo de tiempo procedemos a concatenar y redimensionar los datos, en la fila 0 estarán las mediciones de frecuencias y en la fila 1 la frecuencia correspondiente. Como tenemos una frecuencia total de 220161 KHz en un segundo (10 000ms), estamos analizando alrededor de 22017 por segundo (1000ms), procedmos a obtener el segundo inicial de la grabación:"
   ]
  },
  {
   "cell_type": "code",
   "execution_count": 206,
   "metadata": {},
   "outputs": [
    {
     "name": "stdout",
     "output_type": "stream",
     "text": [
      "(2, 22017)\n"
     ]
    }
   ],
   "source": [
    "datos = np.append(fft[0:22017], frecuencias[0:22017]).reshape((2,22017))\n",
    "print(datos.shape)"
   ]
  },
  {
   "cell_type": "markdown",
   "metadata": {},
   "source": [
    "Obtenemos las frecuencias obtenidas pero esta vez solo tomaremos las medidas cada 10 ciclos"
   ]
  },
  {
   "cell_type": "code",
   "execution_count": 216,
   "metadata": {},
   "outputs": [
    {
     "name": "stdout",
     "output_type": "stream",
     "text": [
      "(2202,)\n",
      "[6.13125717e-09 1.45729511e-09 7.88492383e-10 ... 6.85696120e-09\n",
      " 3.39104386e-09 2.62987967e-09]\n"
     ]
    }
   ],
   "source": [
    "fft_un_segundo = datos[0:][0]\n",
    "fft_diez = fft_un_segundo[::10]\n",
    "print(fft_diez.shape)\n",
    "print(fft_diez)"
   ]
  },
  {
   "cell_type": "code",
   "execution_count": 217,
   "metadata": {},
   "outputs": [
    {
     "name": "stdout",
     "output_type": "stream",
     "text": [
      "(2202,)\n",
      "[0.0000e+00 1.0000e+00 2.0000e+00 ... 2.2024e+03 2.2034e+03 2.2044e+03]\n"
     ]
    }
   ],
   "source": [
    "freq_un_segundo = datos[0:][1]\n",
    "freq_diez = freq_un_segundo[::10]\n",
    "print(freq_diez.shape)\n",
    "print(freq_diez)"
   ]
  },
  {
   "cell_type": "code",
   "execution_count": 225,
   "metadata": {},
   "outputs": [
    {
     "name": "stdout",
     "output_type": "stream",
     "text": [
      "[[6.13125717e-09 1.45729511e-09 7.88492383e-10 ... 6.85696120e-09\n",
      "  3.39104386e-09 2.62987967e-09]\n",
      " [0.00000000e+00 1.00000000e+00 2.00000000e+00 ... 2.20240000e+03\n",
      "  2.20340000e+03 2.20440000e+03]]\n",
      "(2, 2202)\n"
     ]
    }
   ],
   "source": [
    "datos_diez = np.append(fft_diez,freq_diez).reshape(2,-1)\n",
    "print(datos_diez)\n",
    "print(datos_diez.shape)"
   ]
  },
  {
   "cell_type": "markdown",
   "metadata": {},
   "source": [
    "Creamos a partir de estos datos una matriz que represente la relación de estas mediciones:"
   ]
  },
  {
   "cell_type": "code",
   "execution_count": 229,
   "metadata": {},
   "outputs": [
    {
     "name": "stdout",
     "output_type": "stream",
     "text": [
      "[FFT Frec]\n",
      "[[6.13125717e-09 0.00000000e+00]\n",
      " [1.45729511e-09 1.00000000e+00]\n",
      " [7.88492383e-10 2.00000000e+00]\n",
      " ...\n",
      " [6.85696120e-09 2.20240000e+03]\n",
      " [3.39104386e-09 2.20340000e+03]\n",
      " [2.62987967e-09 2.20440000e+03]]\n"
     ]
    }
   ],
   "source": [
    "datos_relacionados = datos_diez.flatten(order=\"F\").reshape(-1,2)\n",
    "print(\"[FFT Frec]\")\n",
    "print(datos_relacionados)"
   ]
  },
  {
   "cell_type": "markdown",
   "metadata": {},
   "source": [
    "Obtenemos los valores maximos y minimos de los valores fft:"
   ]
  },
  {
   "cell_type": "code",
   "execution_count": 289,
   "metadata": {},
   "outputs": [
    {
     "name": "stdout",
     "output_type": "stream",
     "text": [
      "2.435630818696757e-06\n"
     ]
    }
   ],
   "source": [
    "only_fft = np.hsplit(datos_relacionados,2)\n",
    "print(only_fft[0].max())"
   ]
  },
  {
   "cell_type": "code",
   "execution_count": 290,
   "metadata": {},
   "outputs": [
    {
     "name": "stdout",
     "output_type": "stream",
     "text": [
      "1.180953405067064e-12\n"
     ]
    }
   ],
   "source": [
    "print(only_fft[0].min())"
   ]
  },
  {
   "cell_type": "markdown",
   "metadata": {},
   "source": [
    "Si queremos separar de nuevo la muestra:"
   ]
  },
  {
   "cell_type": "code",
   "execution_count": 256,
   "metadata": {},
   "outputs": [
    {
     "data": {
      "text/plain": [
       "[array([[6.13125717e-09, 0.00000000e+00],\n",
       "        [1.45729511e-09, 1.00000000e+00],\n",
       "        [7.88492383e-10, 2.00000000e+00],\n",
       "        ...,\n",
       "        [9.85724359e-09, 1.09970000e+03],\n",
       "        [1.72920462e-10, 1.10070000e+03],\n",
       "        [8.79052174e-09, 1.10170000e+03]]),\n",
       " array([[6.05757055e-09, 1.10270000e+03],\n",
       "        [2.97295170e-08, 1.10370000e+03],\n",
       "        [2.11304078e-08, 1.10470000e+03],\n",
       "        ...,\n",
       "        [6.85696120e-09, 2.20240000e+03],\n",
       "        [3.39104386e-09, 2.20340000e+03],\n",
       "        [2.62987967e-09, 2.20440000e+03]])]"
      ]
     },
     "execution_count": 256,
     "metadata": {},
     "output_type": "execute_result"
    }
   ],
   "source": [
    "np.vsplit(datos_relacionados,2)"
   ]
  },
  {
   "cell_type": "code",
   "execution_count": null,
   "metadata": {},
   "outputs": [],
   "source": []
  }
 ],
 "metadata": {
  "kernelspec": {
   "display_name": "Python 3",
   "language": "python",
   "name": "python3"
  },
  "language_info": {
   "codemirror_mode": {
    "name": "ipython",
    "version": 3
   },
   "file_extension": ".py",
   "mimetype": "text/x-python",
   "name": "python",
   "nbconvert_exporter": "python",
   "pygments_lexer": "ipython3",
   "version": "3.7.0"
  }
 },
 "nbformat": 4,
 "nbformat_minor": 2
}
