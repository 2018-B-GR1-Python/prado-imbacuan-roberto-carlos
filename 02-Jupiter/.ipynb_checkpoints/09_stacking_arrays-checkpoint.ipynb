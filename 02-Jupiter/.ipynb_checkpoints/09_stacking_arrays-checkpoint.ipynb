{
 "cells": [
  {
   "cell_type": "code",
   "execution_count": 1,
   "metadata": {},
   "outputs": [],
   "source": [
    "import numpy as np"
   ]
  },
  {
   "cell_type": "code",
   "execution_count": 2,
   "metadata": {},
   "outputs": [
    {
     "name": "stdout",
     "output_type": "stream",
     "text": [
      "[['Ecuador' 'Peru']\n",
      " ['Colombia' 'Uruaguay']]\n",
      "[['Brazil' 'Mexico']\n",
      " ['Venezuela' 'Argentina']]\n"
     ]
    }
   ],
   "source": [
    "paises_uno = np.array([['Ecuador','Peru'],['Colombia','Uruaguay']])\n",
    "paises_dos = np.array([['Brazil','Mexico'],['Venezuela','Argentina']])\n",
    "print(paises_uno)\n",
    "print(paises_dos)"
   ]
  },
  {
   "cell_type": "code",
   "execution_count": 4,
   "metadata": {},
   "outputs": [
    {
     "data": {
      "text/plain": [
       "array([['Ecuador', 'Peru'],\n",
       "       ['Colombia', 'Uruaguay'],\n",
       "       ['Brazil', 'Mexico'],\n",
       "       ['Venezuela', 'Argentina']], dtype='<U9')"
      ]
     },
     "execution_count": 4,
     "metadata": {},
     "output_type": "execute_result"
    }
   ],
   "source": [
    "# Concatenate\n",
    "paises_concatenados = np.concatenate((paises_uno,paises_dos))\n",
    "paises_concatenados"
   ]
  },
  {
   "cell_type": "code",
   "execution_count": 5,
   "metadata": {},
   "outputs": [
    {
     "data": {
      "text/plain": [
       "array([['Ecuador', 'Peru', 'Brazil', 'Mexico'],\n",
       "       ['Colombia', 'Uruaguay', 'Venezuela', 'Argentina']], dtype='<U9')"
      ]
     },
     "execution_count": 5,
     "metadata": {},
     "output_type": "execute_result"
    }
   ],
   "source": [
    "paises_concatenados = np.concatenate((paises_uno,paises_dos), axis=1)\n",
    "paises_concatenados"
   ]
  },
  {
   "cell_type": "code",
   "execution_count": 7,
   "metadata": {},
   "outputs": [
    {
     "name": "stdout",
     "output_type": "stream",
     "text": [
      "[[1 2 3]\n",
      " [4 5 6]]\n"
     ]
    }
   ],
   "source": [
    "# Stack\n",
    "a = np.array([1,2,3])\n",
    "b = np.array([4,5,6])\n",
    "c = np.stack((a,b))\n",
    "print(c)"
   ]
  },
  {
   "cell_type": "code",
   "execution_count": 8,
   "metadata": {},
   "outputs": [],
   "source": [
    "nombres = ['Adrian','Vicente','Maria','Andres']\n",
    "ids = [1,2,3,4]\n",
    "notas = [7.5,8,8.5,9]"
   ]
  },
  {
   "cell_type": "code",
   "execution_count": 11,
   "metadata": {},
   "outputs": [
    {
     "name": "stdout",
     "output_type": "stream",
     "text": [
      "[['Adrian' 'Vicente' 'Maria' 'Andres']\n",
      " ['1' '2' '3' '4']\n",
      " ['7.5' '8.0' '8.5' '9.0']]\n",
      "(3, 4)\n"
     ]
    }
   ],
   "source": [
    "print(np.stack((nombres,ids,notas)))\n",
    "print(np.stack((nombres,ids,notas)).shape)"
   ]
  },
  {
   "cell_type": "code",
   "execution_count": 12,
   "metadata": {},
   "outputs": [
    {
     "name": "stdout",
     "output_type": "stream",
     "text": [
      "[['Adrian' '1' '7.5']\n",
      " ['Vicente' '2' '8.0']\n",
      " ['Maria' '3' '8.5']\n",
      " ['Andres' '4' '9.0']]\n",
      "(3, 4)\n"
     ]
    }
   ],
   "source": [
    "print(np.stack((nombres,ids,notas), axis=1))\n",
    "print(np.stack((nombres,ids,notas)).shape)"
   ]
  },
  {
   "cell_type": "code",
   "execution_count": null,
   "metadata": {},
   "outputs": [],
   "source": []
  }
 ],
 "metadata": {
  "kernelspec": {
   "display_name": "Python 3",
   "language": "python",
   "name": "python3"
  },
  "language_info": {
   "codemirror_mode": {
    "name": "ipython",
    "version": 3
   },
   "file_extension": ".py",
   "mimetype": "text/x-python",
   "name": "python",
   "nbconvert_exporter": "python",
   "pygments_lexer": "ipython3",
   "version": "3.7.0"
  }
 },
 "nbformat": 4,
 "nbformat_minor": 2
}
