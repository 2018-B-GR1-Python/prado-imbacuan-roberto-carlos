{
 "cells": [
  {
   "cell_type": "code",
   "execution_count": 1,
   "metadata": {},
   "outputs": [],
   "source": [
    "import numpy as np\n",
    "import matplotlib.pyplot as plt"
   ]
  },
  {
   "cell_type": "code",
   "execution_count": 2,
   "metadata": {},
   "outputs": [],
   "source": [
    "np.histogram([1,2,1], bins=[0,1,2,3])\n",
    "mu, sigma = 2, 0.5"
   ]
  },
  {
   "cell_type": "code",
   "execution_count": 6,
   "metadata": {},
   "outputs": [
    {
     "data": {
      "text/plain": [
       "(10000,)"
      ]
     },
     "execution_count": 6,
     "metadata": {},
     "output_type": "execute_result"
    }
   ],
   "source": [
    "data = np.random.normal(mu,sigma,10000)\n",
    "data.shape"
   ]
  },
  {
   "cell_type": "code",
   "execution_count": 7,
   "metadata": {},
   "outputs": [
    {
     "name": "stdout",
     "output_type": "stream",
     "text": [
      "[  1   1   0   1   0   1   0   1   3   9  12  22  27  43  88 124 178 214\n",
      " 283 332 441 488 580 625 665 660 716 697 686 643 497 457 396 300 243 166\n",
      " 143  82  69  41  30  17   9   2   2   1   1   1   0   2]\n",
      "[-0.33299687 -0.24436097 -0.15572508 -0.06708918  0.02154672  0.11018262\n",
      "  0.19881852  0.28745442  0.37609032  0.46472622  0.55336212  0.64199802\n",
      "  0.73063392  0.81926982  0.90790572  0.99654162  1.08517752  1.17381342\n",
      "  1.26244931  1.35108521  1.43972111  1.52835701  1.61699291  1.70562881\n",
      "  1.79426471  1.88290061  1.97153651  2.06017241  2.14880831  2.23744421\n",
      "  2.32608011  2.41471601  2.50335191  2.59198781  2.68062371  2.7692596\n",
      "  2.8578955   2.9465314   3.0351673   3.1238032   3.2124391   3.301075\n",
      "  3.3897109   3.4783468   3.5669827   3.6556186   3.7442545   3.8328904\n",
      "  3.9215263   4.0101622   4.0987981 ]\n"
     ]
    }
   ],
   "source": [
    "(n, bin_edges) = np.histogram(data, bins=50)\n",
    "print(n)\n",
    "print(bin_edges)"
   ]
  },
  {
   "cell_type": "code",
   "execution_count": 8,
   "metadata": {},
   "outputs": [
    {
     "data": {
      "image/png": "[encoded data removed]",
      "text/plain": [
       "<Figure size 432x288 with 1 Axes>"
      ]
     },
     "metadata": {
      "needs_background": "light"
     },
     "output_type": "display_data"
    }
   ],
   "source": [
    "plt.plot(bin_edges[1:],n)\n",
    "plt.show()"
   ]
  },
  {
   "cell_type": "code",
   "execution_count": null,
   "metadata": {},
   "outputs": [],
   "source": []
  }
 ],
 "metadata": {
  "kernelspec": {
   "display_name": "Python 3",
   "language": "python",
   "name": "python3"
  },
  "language_info": {
   "codemirror_mode": {
    "name": "ipython",
    "version": 3
   },
   "file_extension": ".py",
   "mimetype": "text/x-python",
   "name": "python",
   "nbconvert_exporter": "python",
   "pygments_lexer": "ipython3",
   "version": "3.7.0"
  }
 },
 "nbformat": 4,
 "nbformat_minor": 2
}
