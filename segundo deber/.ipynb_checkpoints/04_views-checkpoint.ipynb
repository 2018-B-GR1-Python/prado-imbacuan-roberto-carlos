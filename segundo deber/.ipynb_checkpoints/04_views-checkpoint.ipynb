{
 "cells": [
  {
   "cell_type": "code",
   "execution_count": 1,
   "metadata": {},
   "outputs": [],
   "source": [
    "import numpy as np"
   ]
  },
  {
   "cell_type": "code",
   "execution_count": 11,
   "metadata": {},
   "outputs": [],
   "source": [
    "frutas = np.array(['Piña','Manzana','Pera','Melon','Mandarina','Coco'])"
   ]
  },
  {
   "cell_type": "code",
   "execution_count": 12,
   "metadata": {},
   "outputs": [],
   "source": [
    "cesta_fruta_uno = frutas.view()\n",
    "cesta_fruta_dos = frutas.view()"
   ]
  },
  {
   "cell_type": "code",
   "execution_count": 13,
   "metadata": {},
   "outputs": [
    {
     "name": "stdout",
     "output_type": "stream",
     "text": [
      "['Piña' 'Manzana' 'Pera' 'Melon' 'Mandarina' 'Coco']\n",
      "['Piña' 'Manzana' 'Pera' 'Melon' 'Mandarina' 'Coco']\n",
      "['Piña' 'Manzana' 'Pera' 'Melon' 'Mandarina' 'Coco']\n"
     ]
    }
   ],
   "source": [
    "print(frutas)\n",
    "print(cesta_fruta_uno)\n",
    "print(cesta_fruta_dos)"
   ]
  },
  {
   "cell_type": "code",
   "execution_count": 14,
   "metadata": {},
   "outputs": [
    {
     "name": "stdout",
     "output_type": "stream",
     "text": [
      "1756404101648\n",
      "1756404102048\n",
      "1756427104304\n"
     ]
    }
   ],
   "source": [
    "print(id(frutas))\n",
    "print(id(cesta_fruta_uno))\n",
    "print(id(cesta_fruta_dos))"
   ]
  },
  {
   "cell_type": "code",
   "execution_count": 8,
   "metadata": {},
   "outputs": [
    {
     "name": "stdout",
     "output_type": "stream",
     "text": [
      "True\n",
      "True\n"
     ]
    }
   ],
   "source": [
    "print(cesta_fruta_uno.base is frutas)\n",
    "print(cesta_fruta_dos.base is frutas)"
   ]
  },
  {
   "cell_type": "code",
   "execution_count": 9,
   "metadata": {},
   "outputs": [
    {
     "name": "stdout",
     "output_type": "stream",
     "text": [
      "['Naranja' 'Manzana' 'Pera' 'Melon' 'Mandarina']\n",
      "['Naranja' 'Manzana' 'Pera' 'Melon' 'Mandarina']\n",
      "['Naranja' 'Manzana' 'Pera' 'Melon' 'Mandarina']\n"
     ]
    }
   ],
   "source": [
    "cesta_fruta_uno[0] = 'Naranja'\n",
    "print(frutas)\n",
    "print(cesta_fruta_uno)\n",
    "print(cesta_fruta_dos)"
   ]
  },
  {
   "cell_type": "code",
   "execution_count": 17,
   "metadata": {},
   "outputs": [],
   "source": [
    "cesta_fruta_uno = np.array(['Frutilla','Uva','Papaya','Platano'])"
   ]
  },
  {
   "cell_type": "code",
   "execution_count": 19,
   "metadata": {},
   "outputs": [
    {
     "name": "stdout",
     "output_type": "stream",
     "text": [
      "['Piña' 'Manzana' 'Pera' 'Melon' 'Mandarina' 'Coco']\n",
      "['Frutilla' 'Uva' 'Papaya' 'Platano']\n",
      "['Piña' 'Manzana' 'Pera' 'Melon' 'Mandarina' 'Coco']\n"
     ]
    }
   ],
   "source": [
    "print(cesta_fruta_dos)\n",
    "print(cesta_fruta_uno)\n",
    "print(frutas)"
   ]
  },
  {
   "cell_type": "code",
   "execution_count": 21,
   "metadata": {},
   "outputs": [],
   "source": [
    "cesta_fruta_dos.shape = 3,2"
   ]
  },
  {
   "cell_type": "code",
   "execution_count": 22,
   "metadata": {},
   "outputs": [
    {
     "name": "stdout",
     "output_type": "stream",
     "text": [
      "[['Piña' 'Manzana']\n",
      " ['Pera' 'Melon']\n",
      " ['Mandarina' 'Coco']]\n",
      "['Frutilla' 'Uva' 'Papaya' 'Platano']\n",
      "['Piña' 'Manzana' 'Pera' 'Melon' 'Mandarina' 'Coco']\n"
     ]
    }
   ],
   "source": [
    "print(cesta_fruta_dos)\n",
    "print(cesta_fruta_uno)\n",
    "print(frutas)"
   ]
  },
  {
   "cell_type": "code",
   "execution_count": null,
   "metadata": {},
   "outputs": [],
   "source": []
  }
 ],
 "metadata": {
  "kernelspec": {
   "display_name": "Python 3",
   "language": "python",
   "name": "python3"
  },
  "language_info": {
   "codemirror_mode": {
    "name": "ipython",
    "version": 3
   },
   "file_extension": ".py",
   "mimetype": "text/x-python",
   "name": "python",
   "nbconvert_exporter": "python",
   "pygments_lexer": "ipython3",
   "version": "3.7.0"
  }
 },
 "nbformat": 4,
 "nbformat_minor": 2
}
